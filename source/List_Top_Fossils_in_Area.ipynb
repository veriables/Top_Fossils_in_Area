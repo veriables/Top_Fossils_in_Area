{
 "cells": [
  {
   "cell_type": "markdown",
   "id": "adapted-thirty",
   "metadata": {},
   "source": [
    "### Imports"
   ]
  },
  {
   "cell_type": "code",
   "execution_count": null,
   "id": "ruled-triangle",
   "metadata": {},
   "outputs": [],
   "source": [
    "import pandas as pd\n",
    "import numpy as np\n",
    "import ipywidgets as widgets\n"
   ]
  },
  {
   "cell_type": "markdown",
   "id": "cathedral-staff",
   "metadata": {},
   "source": [
    "### Load data"
   ]
  },
  {
   "cell_type": "code",
   "execution_count": null,
   "id": "distinct-fossil",
   "metadata": {},
   "outputs": [],
   "source": [
    "df = pd.read_csv('../data/name_and_location_with_country.csv')\n"
   ]
  },
  {
   "cell_type": "markdown",
   "id": "entitled-cigarette",
   "metadata": {},
   "source": [
    "### Create dictionaries for dropdown values and lookups"
   ]
  },
  {
   "cell_type": "code",
   "execution_count": null,
   "id": "gross-cooperative",
   "metadata": {},
   "outputs": [],
   "source": [
    "## Create a smaller dataframe with geographic identifiers\n",
    "df_geo = df[['country','state','county']]\n",
    "df_geo = df_geo.drop_duplicates()\n",
    "\n",
    "## Create a country:state dictionary\n",
    "country_state_df = df_geo[['country','state']]\n",
    "country_state_df = country_state_df.drop_duplicates()\n",
    "country_state_dict = country_state_df.groupby('country')['state'].apply(list).to_dict()\n",
    "#country_state_dict[\"United Kingdom\"]\n",
    "\n",
    "## Create a state:county dictionary\n",
    "state_county_df = df_geo[['state','county']]\n",
    "state_county_df = state_county_df.drop_duplicates()\n",
    "state_county_dict = state_county_df.groupby('state')['county'].apply(list).to_dict()\n",
    "#state_county_dict[\"Northern Ireland\"]\n",
    "\n",
    "## Create a country:county dictionary\n",
    "country_county_df = df_geo[['country','county']]\n",
    "country_county_df = country_county_df.drop_duplicates()\n",
    "country_county_dict = country_county_df.groupby('country')['county'].apply(list).to_dict()\n",
    "#country_county_dict[\"United Kingdom\"]\n",
    "\n",
    "## Create a country:state:county dictionary\n",
    "country_state_county_df = df_geo[['country','state','county']]\n",
    "country_state_county_df = country_state_county_df.drop_duplicates()\n",
    "country_state_county_dict = country_state_county_df.groupby(['country','state'])['county'].apply(list).to_dict()\n",
    "#country_state_county_dict[\"United Kingdom\",\"England\"]\n"
   ]
  },
  {
   "cell_type": "markdown",
   "id": "exposed-private",
   "metadata": {},
   "source": [
    "### Create the dropdown widgets"
   ]
  },
  {
   "cell_type": "code",
   "execution_count": null,
   "id": "dramatic-publicity",
   "metadata": {},
   "outputs": [],
   "source": [
    "# Set the original selections\n",
    "first_country = list(country_state_dict.keys())[0]\n",
    "first_state = list(state_county_dict.keys())[0]\n",
    "first_county = state_county_dict[first_state][0]\n",
    "\n",
    "# Create an object to hold the widgets.Output()\n",
    "output = widgets.Output()\n",
    "\n",
    "# Create the dropdown objects\n",
    "dropdown_country = widgets.Dropdown(options = country_state_dict.keys())\n",
    "dropdown_state = widgets.Dropdown()\n",
    "dropdown_county = widgets.Dropdown()\n",
    "\n",
    "# Create a function to be called by all the dropdowns' eventhandlers\n",
    "# It clears the old output and re-filters the dataframe using the current values\n",
    "def common_filtering(country, state, county):\n",
    "    global output\n",
    "    output.clear_output()\n",
    "    with output:\n",
    "        if ((country != first_country) & (state != first_state) & (county != first_county)):\n",
    "            # Filter the dataframe with these values\n",
    "            data = df[(df.country == country) & (df.state == state) & (df.county == county)]\n",
    "            # Aggregate the results and select top 20\n",
    "            df2 = data.groupby(['genus','accepted_name']).size().reset_index(name='count').sort_values(['count'], ascending=False).head(20)\n",
    "        else:\n",
    "            df2 = df.groupby(['genus','accepted_name']).size().reset_index(name='count').sort_values(['count'], ascending=False).head(20)\n",
    "        display(df2)   \n",
    "\n",
    "def dropdown_country_eventhandler(change):\n",
    "    # Update states list\n",
    "    dropdown_state.options = sorted(country_state_dict[change.new])\n",
    "    # Update counties list\n",
    "    dropdown_county.options = sorted(country_county_dict[change.new])\n",
    "    # Filter the dataframe\n",
    "    common_filtering(change.new, dropdown_state.value, dropdown_county.value)\n",
    "    \n",
    "def dropdown_state_eventhandler(change):\n",
    "    # Update counties list\n",
    "    dropdown_county.options = sorted(country_state_county_dict[dropdown_country.value, change.new])\n",
    "    # Filter the dataframe\n",
    "    common_filtering(dropdown_country.value, change.new, dropdown_county.value)\n",
    "\n",
    "def dropdown_county_eventhandler(change):\n",
    "    # Filter the dataframe\n",
    "    common_filtering(dropdown_country.value, dropdown_state.value, dropdown_county.value)\n",
    "\n",
    "# Wire up the eventhandlers\n",
    "dropdown_country.observe(dropdown_country_eventhandler, names='value')\n",
    "dropdown_state.observe(dropdown_state_eventhandler, names='value')\n",
    "dropdown_county.observe(dropdown_county_eventhandler, names='value')\n",
    "\n",
    "# Display the widgets\n",
    "display(dropdown_country)\n",
    "display(dropdown_state)\n",
    "display(dropdown_county)\n"
   ]
  },
  {
   "cell_type": "code",
   "execution_count": null,
   "id": "adjustable-integrity",
   "metadata": {},
   "outputs": [],
   "source": [
    "display(output)\n"
   ]
  },
  {
   "cell_type": "code",
   "execution_count": null,
   "id": "compressed-organizer",
   "metadata": {},
   "outputs": [],
   "source": []
  }
 ],
 "metadata": {
  "kernelspec": {
   "display_name": "Python 3",
   "language": "python",
   "name": "python3"
  },
  "language_info": {
   "codemirror_mode": {
    "name": "ipython",
    "version": 3
   },
   "file_extension": ".py",
   "mimetype": "text/x-python",
   "name": "python",
   "nbconvert_exporter": "python",
   "pygments_lexer": "ipython3",
   "version": "3.7.4"
  }
 },
 "nbformat": 4,
 "nbformat_minor": 5
}
